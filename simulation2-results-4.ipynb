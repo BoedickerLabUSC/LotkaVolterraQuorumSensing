{
 "cells": [
  {
   "cell_type": "code",
   "execution_count": 1,
   "id": "e3c29ab0-65ed-4e9e-ad6d-f482fc74c542",
   "metadata": {},
   "outputs": [],
   "source": [
    "import numpy as np\n",
    "import matplotlib.pyplot as plt\n",
    "from scipy import stats\n",
    "import pandas as pd\n",
    "file='final_results_2'\n",
    "file2='figs'"
   ]
  },
  {
   "cell_type": "code",
   "execution_count": 2,
   "id": "6a184bcd-a67b-400c-84fa-31832ea4f342",
   "metadata": {},
   "outputs": [],
   "source": [
    "def survivors(fractions, num_strains, target_reseeds, trlnumber):\n",
    "    #Calculates the number of survivors at the final dilution from fractions data\n",
    "    #num_strains is an integer\n",
    "\n",
    "    survivors_ = np.zeros(trlnumber)\n",
    "    \n",
    "    for ii in range(trlnumber):\n",
    "        survivors_[ii]=np.count_nonzero(fractions[ii,target_reseeds,:])/num_strains\n",
    "\n",
    "    return survivors_"
   ]
  },
  {
   "cell_type": "code",
   "execution_count": 3,
   "id": "b771fdc2-2841-4cb0-8790-f4d96f7b8ca0",
   "metadata": {},
   "outputs": [],
   "source": [
    "def fractions_cheaters(fractions, target_reseeds, trlnumber):\n",
    "    #Calculates the fractions of a QS strains and its cheaters\n",
    "\n",
    "    frac_QS = np.zeros(trlnumber)\n",
    "    frac_ch = np.zeros(trlnumber)\n",
    "    \n",
    "    for ii in range(trlnumber):\n",
    "        tot_frac = fractions[ii,target_reseeds,0] + fractions[ii,target_reseeds,1]\n",
    "        if tot_frac != 0:\n",
    "            frac_QS[ii] = fractions[ii,target_reseeds,0]/tot_frac\n",
    "            frac_ch[ii] = fractions[ii,target_reseeds,1]/tot_frac\n",
    "        else:\n",
    "            frac_QS[ii] = 0\n",
    "            frac_ch[ii] = 0\n",
    "        \n",
    "\n",
    "    return frac_QS, frac_ch"
   ]
  },
  {
   "cell_type": "code",
   "execution_count": 4,
   "id": "d559fc52-c010-44ef-bc0c-5403dbccb14d",
   "metadata": {},
   "outputs": [],
   "source": [
    "def shannon(fractions, num_strains, target_reseeds, trlnumber):\n",
    "    #Calculates Shannon Index at the final dilution from fractions data\n",
    "    #num_strains is an integer\n",
    "\n",
    "    shannon_ = np.zeros(trlnumber)\n",
    "    \n",
    "    for ii in range(trlnumber):\n",
    "        SE=0\n",
    "        for kk in range(num_strains):\n",
    "            if fractions[ii,target_reseeds,kk] != 0:\n",
    "                SE=SE-(fractions[ii,target_reseeds,kk]*np.log(fractions[ii,target_reseeds,kk]))\n",
    "        shannon_[ii]=np.exp(SE)/num_strains\n",
    "\n",
    "    return shannon_"
   ]
  },
  {
   "cell_type": "code",
   "execution_count": 5,
   "id": "5376f872-5ca8-4b71-8aab-0ed52e61916d",
   "metadata": {},
   "outputs": [],
   "source": [
    "def QSsurvivors(fractions, num_strains, qs_strains, target_reseeds, trlnumber):\n",
    "    #Calculates the number of surviving QS strains at the final dilution from fractions data\n",
    "    #num_strains is an integer\n",
    "\n",
    "    QSsurvivors_ = np.zeros(trlnumber)\n",
    "    \n",
    "    for ii in range(trlnumber):\n",
    "        num_qs_strains = np.count_nonzero(qs_strains[ii])\n",
    "        QSsurvivors_[ii]=np.count_nonzero(fractions[ii][target_reseeds][qs_strains[ii]==1])/num_qs_strains\n",
    "\n",
    "    return QSsurvivors_"
   ]
  },
  {
   "cell_type": "code",
   "execution_count": 6,
   "id": "c6c35d8b-4df0-47c1-bb2a-5aa7841a35ca",
   "metadata": {},
   "outputs": [],
   "source": [
    "def NQSsurvivors(fractions, num_strains, qs_strains, target_reseeds, trlnumber):\n",
    "    #Calculates the number of surviving NQS strains at the final dilution from fractions data\n",
    "    #num_strains is an integer\n",
    "\n",
    "    NQSsurvivors_ = np.zeros(trlnumber)\n",
    "    \n",
    "    for ii in range(trlnumber):\n",
    "        num_qs_strains = np.count_nonzero(qs_strains[ii])\n",
    "        num_nqs = num_strains-num_qs_strains\n",
    "        NQSsurvivors_[ii] = np.count_nonzero(fractions[ii][target_reseeds][qs_strains[ii]==0])/num_nqs\n",
    "\n",
    "    return NQSsurvivors_"
   ]
  },
  {
   "cell_type": "code",
   "execution_count": 7,
   "id": "6eedc36c-5eec-4c1f-97ec-5a0925233b40",
   "metadata": {},
   "outputs": [],
   "source": [
    "def percentage_diff(data_ref, data):\n",
    "\n",
    "    #Calculates percentage difference of the means of two data sets taking one as reference\n",
    "    #Returns the confidence intervals for the percentage difference\n",
    "\n",
    "    factor=100/np.average(data_ref)\n",
    "\n",
    "    n1, n2 = 5000, 5000\n",
    "    s1, s2 = np.var(data, ddof=1), np.var(data_ref, ddof=1)\n",
    "\n",
    "    # Pooled standard deviation\n",
    "    pooled_var = ((n1 - 1)*s1 + (n2 - 1)*s2) / (n1 + n2 - 2)\n",
    "    pooled_std = np.sqrt(pooled_var)\n",
    "\n",
    "    # Standard error using pooled std\n",
    "    se = pooled_std * np.sqrt(1/n1 + 1/n2)\n",
    "\n",
    "    x=stats.ttest_ind(data,data_ref)\n",
    "\n",
    "    t_stat=x[0]\n",
    "\n",
    "    p_value = x[1]\n",
    "\n",
    "    PD_QI=t_stat*se*factor\n",
    "\n",
    "    cb = factor*(x.confidence_interval(confidence_level=0.95)[0]) #Confidence intervale lowest value\n",
    "    cu = factor*(x.confidence_interval(confidence_level=0.95)[1]) #Confidence intervale upper value\n",
    "\n",
    "    return PD_QI, p_value, cb, cu"
   ]
  },
  {
   "cell_type": "code",
   "execution_count": 8,
   "id": "d6f5da8b-2149-4a28-9e11-682bd3f10522",
   "metadata": {},
   "outputs": [],
   "source": [
    "def QSImpact(names, num_strains, target_reseeds, trlnumber):\n",
    "\n",
    "    #Returns QS impact for each variable value. Reads data using the files' names.\n",
    "    #num_strains is an array (each value for each file if necessary)\n",
    "\n",
    "    number_points = len(names)\n",
    "    \n",
    "    QS_imp = np.zeros((4,number_points))  #QS Impact value for each value of the variable \n",
    "    p_val = np.zeros((4,number_points))   #p-values for each value fo the variable\n",
    "    CI = np.zeros((4,number_points,2))    #Confidence intervals for each QS Impact avlue\n",
    "    \n",
    "    for kk in range(number_points):\n",
    "        file_2=names[kk]\n",
    "        fractions=np.load(file+'/fractions_'+file_2+'.npy')\n",
    "        fractions_IQS=np.load(file+'/fractionsNQS_'+file_2+'.npy')\n",
    "        qs_s=np.load(file+'/qs_'+file_2+'.npy')\n",
    "\n",
    "        surv = survivors(fractions, num_strains[kk], target_reseeds, trlnumber)\n",
    "        surv_IQS = survivors(fractions_IQS, num_strains[kk], target_reseeds, trlnumber)\n",
    "        \n",
    "        PD_QI, p_value, cb, cu = percentage_diff(surv_IQS, surv)\n",
    "\n",
    "        QS_imp[0,kk] = PD_QI\n",
    "        p_val[0,kk] = p_value\n",
    "        CI[0,kk,0]=cb\n",
    "        CI[0,kk,1]=cu\n",
    "\n",
    "        shan = shannon(fractions, num_strains[kk], target_reseeds, trlnumber)\n",
    "        shan_IQS = shannon(fractions_IQS, num_strains[kk], target_reseeds, trlnumber)\n",
    "\n",
    "        PD_QI, p_value, cb, cu = percentage_diff(shan_IQS, shan)\n",
    "\n",
    "        QS_imp[1,kk] = PD_QI\n",
    "        p_val[1,kk] = p_value\n",
    "        CI[1,kk,0]=cb\n",
    "        CI[1,kk,1]=cu\n",
    "\n",
    "        QSsurv = QSsurvivors(fractions, num_strains[kk], qs_s, target_reseeds, trlnumber)\n",
    "        QSsurv_IQS = QSsurvivors(fractions_IQS, num_strains[kk], qs_s, target_reseeds, trlnumber)\n",
    "\n",
    "        PD_QI, p_value, cb, cu = percentage_diff(QSsurv_IQS, QSsurv)\n",
    "\n",
    "        QS_imp[2,kk] = PD_QI\n",
    "        p_val[2,kk] = p_value\n",
    "        CI[2,kk,0]=cb\n",
    "        CI[2,kk,1]=cu\n",
    "\n",
    "        NQSsurv = NQSsurvivors(fractions, num_strains[kk], qs_s, target_reseeds, trlnumber)\n",
    "        NQSsurv_IQS = NQSsurvivors(fractions_IQS, num_strains[kk], qs_s, target_reseeds, trlnumber)\n",
    "\n",
    "        PD_QI, p_value, cb, cu = percentage_diff(NQSsurv_IQS, NQSsurv)\n",
    "\n",
    "        QS_imp[3,kk] = PD_QI\n",
    "        p_val[3,kk] = p_value\n",
    "        CI[3,kk,0]=cb\n",
    "        CI[3,kk,1]=cu\n",
    "    \n",
    "    return QS_imp, p_val, CI"
   ]
  },
  {
   "cell_type": "markdown",
   "id": "e9d67595-4d24-4a4a-92c3-5a7577bf1d2c",
   "metadata": {},
   "source": [
    "## Figure 2 Adding QS to LV equations increases the number of surviving strains compared with LV system without QS."
   ]
  },
  {
   "cell_type": "markdown",
   "id": "cda99cb8-52c1-45fc-b95d-1397f3ee6864",
   "metadata": {},
   "source": [
    "### Panel 2a. Adding QS to LV equations increases the number of survivors but shannon index is not affected"
   ]
  },
  {
   "cell_type": "code",
   "execution_count": 21,
   "id": "14f60481-dd18-4bd8-89e3-b3dcc3351889",
   "metadata": {},
   "outputs": [],
   "source": [
    "#This cell prepars data to use in DABEST script in MatLab\n",
    "\n",
    "target_reseeds = 200\n",
    "trlnumber = 5000\n",
    "num_strains = 15\n",
    "\n",
    "#Load distributions for S and D in the QSLV and LV dynamical systems\n",
    "file_2='beta_1e9_15s_st_1e9'\n",
    "fractions=np.load(file+'/fractions_'+file_2+'.npy')\n",
    "fractions_IQS=np.load(file+'/fractionsNQS_'+file_2+'.npy')\n",
    "qs_s=np.load(file+'/qs_'+file_2+'.npy')\n",
    "\n",
    "surv=survivors(fractions, num_strains, target_reseeds, trlnumber)\n",
    "surv_IQS=survivors(fractions_IQS, num_strains, target_reseeds, trlnumber)\n",
    "\n",
    "shan = shannon(fractions, num_strains, target_reseeds, trlnumber)\n",
    "shan_IQS = shannon(fractions_IQS, num_strains, target_reseeds, trlnumber)\n",
    "\n",
    "#Preparing exportation. Concatenate distributions in the same collumn\n",
    "DABEST_c0 = np.concatenate((surv_IQS,surv))\n",
    "DABEST_c0 = np.concatenate((DABEST_c0,shan_IQS))\n",
    "DABEST_c0 = np.concatenate((DABEST_c0,shan))\n",
    "\n",
    "#Prepare a second collumn with the labels of the data\n",
    "DABEST_l1 = np.full(len(surv), 'LV-S')\n",
    "DABEST_l2 = np.full(len(surv), 'LVQS-S')\n",
    "DABEST_l3 = np.full(len(surv), 'LV-D')\n",
    "DABEST_l4 = np.full(len(surv), 'LVQS-D')\n",
    "\n",
    "DABEST_c1 = np.concatenate((DABEST_l1,DABEST_l2))\n",
    "DABEST_c1 = np.concatenate((DABEST_c1,DABEST_l3))\n",
    "DABEST_c1 = np.concatenate((DABEST_c1,DABEST_l4))\n",
    "\n",
    "#Prepare pandas dataframe for exportation\n",
    "df = pd.DataFrame({'Identifiers' : DABEST_c1, 'Values' : DABEST_c0})\n",
    "\n",
    "#Export\n",
    "#df.to_csv(file+'/figs/fig_statistical_vis/figure2a_data.csv', index=False)"
   ]
  },
  {
   "cell_type": "markdown",
   "id": "dcf1e351-788f-47e8-a88a-17b7350db4ef",
   "metadata": {},
   "source": [
    "### Panel 2b. Number of survivors and Shannon index increase with the number of QS strains."
   ]
  },
  {
   "cell_type": "code",
   "execution_count": 24,
   "id": "e494f9fe-a8be-46ee-b2ec-a8fb5eeb7cf8",
   "metadata": {},
   "outputs": [
    {
     "name": "stderr",
     "output_type": "stream",
     "text": [
      "/var/folders/s3/sfwb9bxx1d1_8lw_f0b9k8s80000gn/T/ipykernel_31736/871928401.py:10: RuntimeWarning: invalid value encountered in scalar divide\n",
      "  NQSsurvivors_[ii] = np.count_nonzero(fractions[ii][target_reseeds][qs_strains[ii]==0])/num_nqs\n"
     ]
    },
    {
     "data": {
      "text/plain": [
       "(array([0, 1, 1, 1, 1, 1, 1, 3, 3, 3, 3, 3]),\n",
       " array([0, 0, 1, 2, 3, 4, 5, 0, 1, 2, 3, 4]))"
      ]
     },
     "execution_count": 24,
     "metadata": {},
     "output_type": "execute_result"
    }
   ],
   "source": [
    "target_reseeds = 200\n",
    "trlnumber=5000\n",
    "\n",
    "name=np.array(['p10', 'p15', 'p20', 'p25', 'p35', 'p40', 'p50', 'p502', 'p60', 'p65', 'p75', 'p80', 'p85', 'p90', 'p100'])\n",
    "names=np.full(len(name), '',dtype=object)\n",
    "num_strains = np.full(len(name),15)\n",
    "\n",
    "for kk in range(len(name)):\n",
    "    if kk!=2:\n",
    "        names[kk]='beta_1e9_15s_st_1e9_QS'+name[kk]\n",
    "    else:\n",
    "        names[kk]='beta_1e9_15s_st_1e9'\n",
    "\n",
    "QSIM, p_val, CI = QSImpact(names, num_strains, target_reseeds, trlnumber)\n",
    "\n",
    "x_var = np.arange(1,15+1)*100/15\n",
    "yy = np.transpose(QSIM[0])\n",
    "yy2 = np.transpose(QSIM[1])\n",
    "\n",
    "yy_err = np.abs(np.vstack((yy,yy))-np.transpose(CI[0]))\n",
    "yy2_err = np.abs(np.vstack((yy2,yy2))-np.transpose(CI[1]))\n",
    "\n",
    "p_val_ind = np.asarray(p_val>0.05).nonzero()\n",
    "p_val_ind"
   ]
  },
  {
   "cell_type": "code",
   "execution_count": 25,
   "id": "7ee16658-fc93-4143-b64c-8421b2534838",
   "metadata": {},
   "outputs": [
    {
     "data": {
      "image/png": "[encoded data removed]",
      "text/plain": [
       "<Figure size 170x150 with 1 Axes>"
      ]
     },
     "metadata": {},
     "output_type": "display_data"
    }
   ],
   "source": [
    "fig, axs = plt.subplots(1, figsize=(1.7, 1.5), layout='constrained', sharex=True)\n",
    "\n",
    "plt.rcParams['font.family'] = 'Arial'\n",
    "\n",
    "axs.axhline(0, color='black', linestyle='--', linewidth=0.75)\n",
    "\n",
    "p100=axs.errorbar(x_var, yy, yerr=yy_err, capsize=2.5, marker='.', markersize=4, linewidth=1, color='tab:blue', label=r'$\\langle S \\rangle$')\n",
    "p101=axs.errorbar(x_var, yy2, yerr=yy2_err, capsize=2.5, marker='.', markersize=4, linewidth=1, color='tab:orange', label=r'$\\langle D \\rangle$')\n",
    "\n",
    "axs.tick_params(axis='both', which='both', labelsize=8)\n",
    "axs.set_ylabel(r'QS Impact $[\\%]$', size=8)\n",
    "\n",
    "axs.set_ylim([-5,25])\n",
    "axs.set_xlim([-5,105])\n",
    "\n",
    "axs.legend(fontsize=8, labelspacing=0.2, frameon=False, handlelength=0.75, handletextpad=0.3)\n",
    "\n",
    "axs.set_xlabel(r'Percentage of QS Strains $[\\%]$', size=8)\n",
    "axs.xaxis.set_label_coords(0.35, -0.3)\n",
    "\n",
    "plt.savefig(file+'/'+file2+'/fig2b.pdf',bbox_inches='tight',format=\"pdf\", dpi=900)\n",
    "\n",
    "plt.show()"
   ]
  },
  {
   "cell_type": "markdown",
   "id": "0d929a57-5484-4189-8078-1ea8b273e8f4",
   "metadata": {},
   "source": [
    "### Panel 2c. Number of survivors increases with thu number of interactions modified by QS, Shannon index is not affected"
   ]
  },
  {
   "cell_type": "code",
   "execution_count": 39,
   "id": "57c30a8c-a126-41a4-9e7f-1136e3d1d4e4",
   "metadata": {},
   "outputs": [
    {
     "data": {
      "text/plain": [
       "(array([0, 1, 1, 1, 1, 1, 1, 1, 1, 1, 1, 3, 3, 3, 3, 3]),\n",
       " array([0, 0, 1, 2, 3, 4, 5, 6, 7, 8, 9, 0, 1, 2, 3, 4]))"
      ]
     },
     "execution_count": 39,
     "metadata": {},
     "output_type": "execute_result"
    }
   ],
   "source": [
    "target_reseeds = 200\n",
    "trlnumber = 5000\n",
    "num_strains = np.full(len(name),15)\n",
    "\n",
    "name=np.array(['a10', 'a20', 'a30', 'a40', 'a50', 'a60', 'a70', 'a80', 'a90', 'a100'])\n",
    "names=np.full(len(name), '',dtype=object)\n",
    "num_strains = np.full(15,len(name))\n",
    "\n",
    "for kk in range(len(name)):\n",
    "    if kk!=2:\n",
    "        names[kk]='beta_1e9_15s_st_1e9_qs'+name[kk]\n",
    "    else:\n",
    "        names[kk]='beta_1e9_15s_st_1e9'\n",
    "\n",
    "QSIM, p_val, CI = QSImpact(names, num_strains, target_reseeds, trlnumber)\n",
    "\n",
    "x_var2 = np.arange(10,100+10,10)\n",
    "yy_2 = QSIM[0]\n",
    "yy2_2 = QSIM[1]\n",
    "\n",
    "yy_2_err = np.abs(np.vstack((yy_2,yy_2))-np.transpose(CI[0]))\n",
    "yy2_2_err = np.abs(np.vstack((yy2_2,yy2_2))-np.transpose(CI[1]))\n",
    "\n",
    "p_val_ind = np.asarray(p_val>0.05).nonzero()\n",
    "p_val_ind"
   ]
  },
  {
   "cell_type": "code",
   "execution_count": 40,
   "id": "97aa5c6a-78d4-4a4c-8190-3ff624b64f40",
   "metadata": {},
   "outputs": [
    {
     "data": {
      "image/png": "[encoded data removed]",
      "text/plain": [
       "<Figure size 170x150 with 1 Axes>"
      ]
     },
     "metadata": {},
     "output_type": "display_data"
    }
   ],
   "source": [
    "fig, axs = plt.subplots(1, figsize=(1.7, 1.5), layout='constrained', sharex=True)\n",
    "\n",
    "plt.rcParams['font.family'] = 'Arial'\n",
    "\n",
    "axs.axhline(0, color='black', linestyle='--', linewidth=0.75)\n",
    "\n",
    "p011=axs.errorbar(x_var2, yy_2, yerr=yy_2_err, capsize=2.5, marker='.', markersize=4, linewidth=1, color='tab:blue', label=r'$\\langle S \\rangle$')\n",
    "p111=axs.errorbar(x_var2, yy2_2, yerr=yy2_2_err, capsize=2.5, marker='.', markersize=4, linewidth=1, color='tab:orange', label=r'$\\langle D \\rangle$')\n",
    "\n",
    "axs.tick_params(axis='both', which='both', labelsize=8)\n",
    "axs.set_ylabel(r'QS Impact $[\\%]$', size=8)\n",
    "\n",
    "axs.set_ylim([-5,10])\n",
    "axs.set_xlim([-5,105])\n",
    "\n",
    "axs.set_xlabel(r'Interactions changed by QS $[\\%]$', size=8)\n",
    "axs.xaxis.set_label_coords(0.35, -0.3)\n",
    "\n",
    "axs.legend(fontsize=8, labelspacing=0.2, frameon=False, handlelength=0.75, handletextpad=0.3)\n",
    "\n",
    "plt.savefig(file+'/'+file2+'/fig2c.pdf',bbox_inches='tight', format=\"pdf\", dpi=900)\n",
    "\n",
    "plt.show()"
   ]
  },
  {
   "cell_type": "markdown",
   "id": "7a75e84e-4cbf-4d4d-96a1-62bcc8f33c3f",
   "metadata": {},
   "source": [
    "### Panel 2d. Adding QS to LV equations increases the number of QS survivors but non-QS survivors is not affected"
   ]
  },
  {
   "cell_type": "code",
   "execution_count": 57,
   "id": "6aecff4b-c43a-4335-ab77-f55652f3f626",
   "metadata": {},
   "outputs": [],
   "source": [
    "#This cell prepers data to use in DABEST script in MatLab\n",
    "target_reseeds = 200\n",
    "trlnumber = 5000\n",
    "num_strains = 15\n",
    "num_nqs = 12\n",
    "num_qs = 3\n",
    "\n",
    "#Load distributions for S and D in the QSLV and LV dynamical systems\n",
    "file_2='beta_1e9_15s_st_1e9'\n",
    "fractions=np.load(file+'/fractions_'+file_2+'.npy')\n",
    "fractions_IQS=np.load(file+'/fractionsNQS_'+file_2+'.npy')\n",
    "qs_s=np.load(file+'/qs_'+file_2+'.npy')\n",
    "\n",
    "surv=survivors(fractions, num_strains, target_reseeds, trlnumber)\n",
    "surv_IQS=survivors(fractions_IQS, num_strains, target_reseeds, trlnumber)\n",
    "\n",
    "QSsurv=QSsurvivors(fractions, num_strains, qs_s, target_reseeds, trlnumber)\n",
    "QSsurv_IQS=QSsurvivors(fractions_IQS, num_strains, qs_s, target_reseeds, trlnumber)\n",
    "\n",
    "#Direct caculation of NQSsurv with NQSsurvivors function leads to an error in dabest\n",
    "#But, using the theoretical calculation produces data that dabest can read\n",
    "#The difference between both sets of data is negligible \n",
    "\n",
    "NQSsurv = surv*(num_strains/num_nqs) - QSsurv*(num_qs/num_nqs)\n",
    "NQSsurv_IQS = surv_IQS*(num_strains/num_nqs) - QSsurv_IQS*(num_qs/num_nqs)\n",
    "\n",
    "#Lines for direct calculation of NQSsurv\n",
    "#NQSsurv = NQSsurvivors(fractions, num_strains, qs_s, target_reseeds, trlnumber)\n",
    "#NQSsurv_IQS = NQSsurvivors(fractions_IQS, num_strains, qs_s, target_reseeds, trlnumber)\n",
    "\n",
    "#Preparing exportation. Concatenate distributions in the same collumn\n",
    "DABEST_c0 = np.concatenate((QSsurv_IQS,QSsurv))\n",
    "DABEST_c0 = np.concatenate((DABEST_c0,NQSsurv_IQS))\n",
    "DABEST_c0 = np.concatenate((DABEST_c0,NQSsurv))\n",
    "\n",
    "#Prepare a second collumn with the labels of the data\n",
    "DABEST_l1 = np.full(len(QSsurv), 'LV-S')\n",
    "DABEST_l2 = np.full(len(QSsurv), 'LVQS-S')\n",
    "DABEST_l3 = np.full(len(QSsurv), 'LV-D')\n",
    "DABEST_l4 = np.full(len(QSsurv), 'LVQS-D')\n",
    "\n",
    "DABEST_c1 = np.concatenate((DABEST_l1,DABEST_l2))\n",
    "DABEST_c1 = np.concatenate((DABEST_c1,DABEST_l3))\n",
    "DABEST_c1 = np.concatenate((DABEST_c1,DABEST_l4))\n",
    "\n",
    "#Prepare pandas dataframe for exportation\n",
    "df = pd.DataFrame({'Identifiers' : DABEST_c1, 'Values' : DABEST_c0})\n",
    "\n",
    "#Export\n",
    "df.to_csv(file+'/figs/fig_statistical_vis/figure3a_data.csv', index=False)"
   ]
  },
  {
   "cell_type": "markdown",
   "id": "1e4cb0db-522f-4ce1-8ad4-4c47e9b03684",
   "metadata": {},
   "source": [
    "### Panel 2e. The percentage of QS strains increases the benefit for QS strains."
   ]
  },
  {
   "cell_type": "code",
   "execution_count": 41,
   "id": "bb71e7ec-610b-4a60-b576-ac22ae30ad57",
   "metadata": {},
   "outputs": [
    {
     "name": "stderr",
     "output_type": "stream",
     "text": [
      "/var/folders/s3/sfwb9bxx1d1_8lw_f0b9k8s80000gn/T/ipykernel_31736/871928401.py:10: RuntimeWarning: invalid value encountered in scalar divide\n",
      "  NQSsurvivors_[ii] = np.count_nonzero(fractions[ii][target_reseeds][qs_strains[ii]==0])/num_nqs\n"
     ]
    },
    {
     "data": {
      "text/plain": [
       "(array([0, 1, 1, 1, 1, 1, 1, 3, 3, 3, 3, 3]),\n",
       " array([0, 0, 1, 2, 3, 4, 5, 0, 1, 2, 3, 4]))"
      ]
     },
     "execution_count": 41,
     "metadata": {},
     "output_type": "execute_result"
    }
   ],
   "source": [
    "target_reseeds = 200\n",
    "trlnumber=5000\n",
    "\n",
    "name=np.array(['p10', 'p15', 'p20', 'p25', 'p35', 'p40', 'p50', 'p502', 'p60', 'p65', 'p75', 'p80', 'p85', 'p90', 'p100'])\n",
    "names=np.full(len(name), '',dtype=object)\n",
    "for kk in range(len(name)):\n",
    "    if kk!=2:\n",
    "        names[kk]='beta_1e9_15s_st_1e9_QS'+name[kk]\n",
    "    else:\n",
    "        names[kk]='beta_1e9_15s_st_1e9'\n",
    "\n",
    "num_strains = np.full(len(name), 15)\n",
    "\n",
    "QSIM, p_val, CI = QSImpact(names, num_strains, target_reseeds, trlnumber)\n",
    "\n",
    "x_var = np.arange(1,15+1)*100/15\n",
    "yy = np.transpose(QSIM[2])\n",
    "yy2 = np.transpose(QSIM[3])\n",
    "\n",
    "yy_err = np.abs(np.vstack((yy,yy))-np.transpose(CI[2]))\n",
    "yy2_err = np.abs(np.vstack((yy2,yy2))-np.transpose(CI[3]))\n",
    "\n",
    "p_val_ind = np.asarray(p_val>0.05).nonzero()\n",
    "p_val_ind"
   ]
  },
  {
   "cell_type": "code",
   "execution_count": 42,
   "id": "95961fb6-20bc-4d4c-98c0-5f9e550a87c8",
   "metadata": {},
   "outputs": [
    {
     "data": {
      "image/png": "[encoded data removed]",
      "text/plain": [
       "<Figure size 170x150 with 1 Axes>"
      ]
     },
     "metadata": {},
     "output_type": "display_data"
    }
   ],
   "source": [
    "fig, axs = plt.subplots(1, figsize=(1.7, 1.5), layout='constrained', sharex=True)\n",
    "\n",
    "plt.rcParams['font.family'] = 'Arial'\n",
    "\n",
    "axs.axhline(0, color='black', linestyle='--', linewidth=0.75)\n",
    "\n",
    "p011=axs.errorbar(x_var, yy, yerr=yy_err, capsize=2.5, marker='.', markersize=4, linewidth=1, color='tab:green', label=r'$\\langle S_{QS} \\rangle$')\n",
    "p111=axs.errorbar(x_var, yy2, yerr=yy2_err, capsize=2.5, marker='.', markersize=4, linewidth=1, color='tab:red', label=r'$\\langle S_{NQS} \\rangle$')\n",
    "\n",
    "axs.tick_params(axis='both', which='both', labelsize=8)\n",
    "axs.set_ylabel(r'QS Impact $[\\%]$', size=8)\n",
    "\n",
    "axs.tick_params(axis='both', which='both', labelsize=8)\n",
    "\n",
    "axs.set_ylim([-5,25])\n",
    "axs.set_xlim([-5,105])\n",
    "\n",
    "axs.legend(fontsize=8, loc=(0, 0.6), labelspacing=0.2, frameon=False, handlelength=0.75, handletextpad=0.3)\n",
    "\n",
    "axs.set_xlabel(r'Percentage of QS Strains $[\\%]$', size=8)\n",
    "axs.xaxis.set_label_coords(0.35, -0.3)\n",
    "\n",
    "plt.savefig(file+'/'+file2+'/fig2e.pdf', format=\"pdf\", bbox_inches='tight', dpi=900)\n",
    "\n",
    "plt.show()"
   ]
  },
  {
   "cell_type": "markdown",
   "id": "ca79b8e8-4a6a-4429-94c4-62bbd597feb2",
   "metadata": {},
   "source": [
    "### Panel 2f. The number of QS survivors increases with the number of interactions modified by QS, The non-QS survivors number is not affected"
   ]
  },
  {
   "cell_type": "code",
   "execution_count": 43,
   "id": "f285aa83-9a66-46ee-b4dc-54af0caff7a8",
   "metadata": {},
   "outputs": [
    {
     "data": {
      "text/plain": [
       "(array([0, 1, 1, 1, 1, 1, 1, 1, 1, 1, 1, 3, 3, 3, 3, 3]),\n",
       " array([0, 0, 1, 2, 3, 4, 5, 6, 7, 8, 9, 0, 1, 2, 3, 4]))"
      ]
     },
     "execution_count": 43,
     "metadata": {},
     "output_type": "execute_result"
    }
   ],
   "source": [
    "target_reseeds = 200\n",
    "trlnumber = 5000\n",
    "\n",
    "name=np.array(['a10', 'a20', 'a30', 'a40', 'a50', 'a60', 'a70', 'a80', 'a90', 'a100'])\n",
    "names=np.full(len(name), '',dtype=object)\n",
    "\n",
    "num_strains = np.full(len(name), 15)\n",
    "\n",
    "for kk in range(len(name)):\n",
    "    if kk!=2:\n",
    "        names[kk]='beta_1e9_15s_st_1e9_qs'+name[kk]\n",
    "    else:\n",
    "        names[kk]='beta_1e9_15s_st_1e9'\n",
    "\n",
    "QSIM, p_val, CI = QSImpact(names, num_strains, target_reseeds, trlnumber)\n",
    "\n",
    "x_var2 = np.arange(10,100+10,10)\n",
    "yy_2 = QSIM[2]\n",
    "yy2_2 = QSIM[3]\n",
    "\n",
    "yy_2_err = np.abs(np.vstack((yy_2,yy_2))-np.transpose(CI[2]))\n",
    "yy2_2_err = np.abs(np.vstack((yy2_2,yy2_2))-np.transpose(CI[3]))\n",
    "\n",
    "p_val_ind = np.asarray(p_val>0.05).nonzero()\n",
    "p_val_ind"
   ]
  },
  {
   "cell_type": "code",
   "execution_count": 44,
   "id": "3a8366fb-a85e-4f7d-a9b2-f4aa9b206cb8",
   "metadata": {},
   "outputs": [
    {
     "data": {
      "image/png": "[encoded data removed]",
      "text/plain": [
       "<Figure size 175x150 with 1 Axes>"
      ]
     },
     "metadata": {},
     "output_type": "display_data"
    }
   ],
   "source": [
    "fig, axs = plt.subplots(1, figsize=(1.75, 1.5), layout='constrained', sharex=True)\n",
    "\n",
    "plt.rcParams['font.family'] = 'Arial'\n",
    "\n",
    "axs.axhline(0, color='black', linestyle='--', linewidth=0.75)\n",
    "\n",
    "p011=axs.errorbar(x_var2, yy_2, yerr=yy_2_err, capsize=2.5, marker='.', markersize=4, linewidth=1, color='tab:green', label=r'$\\langle S_{QS} \\rangle$')\n",
    "p111=axs.errorbar(x_var2, yy2_2, yerr=yy2_2_err, capsize=2.5, marker='.', markersize=4, linewidth=1, color='tab:red', label=r'$\\langle S_{NQS} \\rangle$')\n",
    "\n",
    "axs.tick_params(axis='both', which='both', labelsize=8)\n",
    "axs.set_ylabel(r'QS Impact $[\\%]$', size=8)\n",
    "\n",
    "axs.tick_params(axis='both', which='both', labelsize=8)\n",
    "\n",
    "axs.set_ylim([-5,25])\n",
    "axs.set_xlim([-5,105])\n",
    "\n",
    "axs.set_xlabel(r'Interactions changed by QS $[\\%]$', size=8)\n",
    "axs.xaxis.set_label_coords(0.35, -0.3)\n",
    "\n",
    "plt.savefig(file+'/'+file2+'/fig2f.pdf', format=\"pdf\", bbox_inches='tight', dpi=900)\n",
    "\n",
    "plt.show()"
   ]
  },
  {
   "cell_type": "markdown",
   "id": "00c62504-3119-4a53-9f28-14275aa42b3d",
   "metadata": {},
   "source": [
    "## Figure S3. If there are enough QS strains the cost stops beign dentrimental."
   ]
  },
  {
   "cell_type": "code",
   "execution_count": 12,
   "id": "03a47731-2c56-4c18-b8c2-e2a45cc38ff3",
   "metadata": {},
   "outputs": [
    {
     "name": "stderr",
     "output_type": "stream",
     "text": [
      "/var/folders/s3/sfwb9bxx1d1_8lw_f0b9k8s80000gn/T/ipykernel_16485/871928401.py:10: RuntimeWarning: invalid value encountered in scalar divide\n",
      "  NQSsurvivors_[ii] = np.count_nonzero(fractions[ii][target_reseeds][qs_strains[ii]==0])/num_nqs\n"
     ]
    },
    {
     "data": {
      "text/plain": [
       "(array([0, 1, 1, 1, 1, 1, 1, 1, 1, 1, 2, 2, 2, 2, 2, 3]),\n",
       " array([0, 0, 1, 2, 3, 4, 5, 6, 7, 8, 0, 1, 2, 3, 4, 0]))"
      ]
     },
     "execution_count": 12,
     "metadata": {},
     "output_type": "execute_result"
    }
   ],
   "source": [
    "target_reseeds = 200\n",
    "trlnumber=5000\n",
    "\n",
    "name=np.linspace(1,15,15)\n",
    "names=np.full(len(name), '',dtype=object)\n",
    "\n",
    "num_strains = np.full(len(name), 15)\n",
    "\n",
    "for kk in range(len(name)):\n",
    "    names[kk]='beta_1e9_15s_st_1e9_cost_3_QS_'+str(int(kk+1))\n",
    "\n",
    "QSIM, p_val, CI = QSImpact(names, num_strains, target_reseeds, trlnumber)\n",
    "\n",
    "variable='cost_3_QS'\n",
    "table=np.load(file+'/'+variable+'_var_'+str(0)+'.npy')\n",
    "for num_file in range(len(name)-1):\n",
    "    tab=np.load(file+'/'+variable+'_var_'+str(num_file+1)+'.npy')\n",
    "    table=np.hstack((table,tab))\n",
    "x_var=table[0,:]*(100/15)\n",
    "\n",
    "yy = np.transpose(QSIM[0])\n",
    "yy2 = np.transpose(QSIM[1])\n",
    "yy1 = np.transpose(QSIM[2])\n",
    "yy12 = np.transpose(QSIM[3])\n",
    "\n",
    "yy_err = np.abs(np.vstack((yy,yy))-np.transpose(CI[0]))\n",
    "yy2_err = np.abs(np.vstack((yy2,yy2))-np.transpose(CI[1]))\n",
    "yy1_err = np.abs(np.vstack((yy1,yy1))-np.transpose(CI[2]))\n",
    "yy12_err = np.abs(np.vstack((yy12,yy12))-np.transpose(CI[3]))\n",
    "\n",
    "p_val_ind = np.asarray(p_val>0.05).nonzero()\n",
    "p_val_ind"
   ]
  },
  {
   "cell_type": "code",
   "execution_count": 13,
   "id": "74d0db91-a181-4cae-83ad-7ae6df7c7fb8",
   "metadata": {},
   "outputs": [
    {
     "data": {
      "image/png": "[encoded data removed]",
      "text/plain": [
       "<Figure size 170x150 with 1 Axes>"
      ]
     },
     "metadata": {},
     "output_type": "display_data"
    }
   ],
   "source": [
    "fig, axs = plt.subplots(1, figsize=(1.7, 1.5), layout='constrained', sharex=True)\n",
    "\n",
    "plt.rcParams['font.family'] = 'Arial'\n",
    "\n",
    "axs.axhline(0, color='black', linestyle='--', linewidth=0.75)\n",
    "\n",
    "p100=axs.errorbar(x_var, yy, marker='.', yerr=yy_err, capsize=2.5, markersize=4, linewidth=1, color='tab:blue', label=r'$\\langle S \\rangle$')\n",
    "#p100=axs.errorbar(x_var, yy2, marker='.', yerr=yy2_err, capsize=2.5, markersize=4, linewidth=1, color='tab:orange', label=r'$\\langle D \\rangle$')\n",
    "p011=axs.errorbar(x_var, yy1, marker='.', yerr=yy1_err, capsize=2.5, markersize=4, linewidth=1, color='tab:green', label=r'$\\langle S_{QS} \\rangle$')\n",
    "p111=axs.errorbar(x_var, yy12, marker='.', yerr=yy12_err, capsize=2.5, markersize=4, linewidth=1, color='tab:red', label=r'$\\langle S_{NQS} \\rangle$')\n",
    "\n",
    "axs.tick_params(axis='both', which='both', labelsize=8)\n",
    "axs.set_xlim([-5,105])\n",
    "\n",
    "axs.set_ylim([-10,25])\n",
    "axs.set_ylabel(r'QS Impact $[\\%]$', size=8)\n",
    "axs.set_xlabel(r'Percentage of QS Strains $[\\%]$', size=8)\n",
    "axs.xaxis.set_label_coords(0.35, -0.3)\n",
    "\n",
    "plt.savefig(file+'/'+file2+'/figS3.pdf', format=\"pdf\",bbox_inches='tight', dpi=900)\n",
    "\n",
    "plt.show()"
   ]
  },
  {
   "cell_type": "markdown",
   "id": "9e35c108-18a7-44f0-9399-dc36ce6f7b63",
   "metadata": {},
   "source": [
    "## Figure 3A. Cost is still beneficial if it is small."
   ]
  },
  {
   "cell_type": "code",
   "execution_count": 39,
   "id": "bf6b4c23-ce8b-4fc5-8624-037944e405f5",
   "metadata": {},
   "outputs": [
    {
     "data": {
      "text/plain": [
       "(array([0, 0, 1, 1, 1, 2, 3]), array([3, 4, 0, 1, 2, 1, 0]))"
      ]
     },
     "execution_count": 39,
     "metadata": {},
     "output_type": "execute_result"
    }
   ],
   "source": [
    "target_reseeds = 200\n",
    "trlnumber=5000\n",
    "\n",
    "name=np.linspace(0,10,5)\n",
    "names=np.full(len(name), '',dtype=object)\n",
    "\n",
    "num_strains = np.full(len(name), 15)\n",
    "\n",
    "for kk in range(len(name)):\n",
    "    names[kk]='beta_1e9_15s_st_1e9_cost'+str(int(name[kk]*10))+'_3'\n",
    "\n",
    "QSIM, p_val, CI = QSImpact(names, num_strains, target_reseeds, trlnumber)\n",
    "\n",
    "variable='cost_3'\n",
    "table=np.load(file+'/'+variable+'_var_'+str(0)+'.npy')\n",
    "for num_file in range(len(name)-1):\n",
    "    tab=np.load(file+'/'+variable+'_var_'+str(num_file+1)+'.npy')\n",
    "    table=np.hstack((table,tab))\n",
    "x_var=table[0,:]\n",
    "\n",
    "yy = np.transpose(QSIM[0])\n",
    "yy2 = np.transpose(QSIM[1])\n",
    "yy1 = np.transpose(QSIM[2])\n",
    "yy12 = np.transpose(QSIM[3])\n",
    "\n",
    "yy_err = np.abs(np.vstack((yy,yy))-np.transpose(CI[0]))\n",
    "yy2_err = np.abs(np.vstack((yy2,yy2))-np.transpose(CI[1]))\n",
    "yy1_err = np.abs(np.vstack((yy1,yy1))-np.transpose(CI[2]))\n",
    "yy12_err = np.abs(np.vstack((yy12,yy12))-np.transpose(CI[3]))\n",
    "\n",
    "p_val_ind = np.asarray(p_val>0.05).nonzero()\n",
    "p_val_ind"
   ]
  },
  {
   "cell_type": "code",
   "execution_count": 51,
   "id": "985800e3-d36c-4b74-b609-836e6788b665",
   "metadata": {},
   "outputs": [
    {
     "data": {
      "image/png": "[encoded data removed]",
      "text/plain": [
       "<Figure size 170x150 with 1 Axes>"
      ]
     },
     "metadata": {},
     "output_type": "display_data"
    }
   ],
   "source": [
    "fig, axs = plt.subplots(1, figsize=(1.7, 1.5), layout='constrained', sharex=True)\n",
    "\n",
    "plt.rcParams['font.family'] = 'Arial'\n",
    "\n",
    "axs.axhline(0, color='black', linestyle='--', linewidth=0.75)\n",
    "\n",
    "p100=axs.errorbar(x_var, yy, marker='.', yerr=yy_err, capsize=2.5, markersize=4, linewidth=1, color='tab:blue', label=r'$\\langle S \\rangle$')\n",
    "p011=axs.errorbar(x_var, yy1, marker='.', yerr=yy1_err, capsize=2.5, markersize=4, linewidth=1, color='tab:green', label=r'$\\langle S_{QS} \\rangle$')\n",
    "p111=axs.errorbar(x_var, yy12, marker='.', yerr=yy12_err, capsize=2.5, markersize=4, linewidth=1, color='tab:red', label=r'$\\langle S_{NQS} \\rangle$')\n",
    "\n",
    "axs.tick_params(axis='both', which='both', labelsize=8)\n",
    "axs.set_ylim([-31,11])\n",
    "axs.set_ylabel(r'QS Impact $[\\%]$', size=8)\n",
    "axs.set_xlabel(r'Reduction in growth rate $[\\%]$', size=8)\n",
    "\n",
    "plt.savefig(file+'/'+file2+'/fig2h.pdf', format=\"pdf\",bbox_inches='tight', dpi=900)\n",
    "\n",
    "plt.show()"
   ]
  },
  {
   "cell_type": "markdown",
   "id": "e4d9781b-9fb5-4216-8640-93f9466a4bca",
   "metadata": {},
   "source": [
    "## Figure 3C. Cheating on QS."
   ]
  },
  {
   "cell_type": "code",
   "execution_count": 9,
   "id": "2aad6c6b-4813-48d1-b064-8a86a9a58c3d",
   "metadata": {},
   "outputs": [],
   "source": [
    "target_reseeds = 200\n",
    "trlnumber = 5000\n",
    "num_strains = 15\n",
    "x_var = np.array([1,5,10,15,20])\n",
    "\n",
    "prob_QS = np.zeros(len(x_var))\n",
    "prob_NQS = np.zeros(len(x_var))\n",
    "\n",
    "ii=0\n",
    "for ll in x_var:\n",
    "    \n",
    "    file_2 = 'cheating_90-10_20perc_25c_size_2_'+str(ll)\n",
    "    fractions_NQS=np.load(file+'/fractions_NQS_'+file_2+'.npy')\n",
    "    fractions=np.load(file+'/fractions_'+file_2+'.npy')\n",
    "\n",
    "    frac_QS_NQS, frac_cheaters_NQS = fractions_cheaters(fractions_NQS, target_reseeds, trlnumber)\n",
    "    frac_QS, frac_cheaters = fractions_cheaters(fractions, target_reseeds, trlnumber)\n",
    "\n",
    "    prob_QS[ii] = np.count_nonzero(frac_QS)/trlnumber\n",
    "    prob_NQS[ii] = np.count_nonzero(frac_QS_NQS)/trlnumber\n",
    "\n",
    "    ii=ii+1"
   ]
  },
  {
   "cell_type": "code",
   "execution_count": 11,
   "id": "0c0f88f8-74cc-4e62-8f0b-fb82e99c6777",
   "metadata": {},
   "outputs": [
    {
     "data": {
      "image/png": "[encoded data removed]",
      "text/plain": [
       "<Figure size 200x150 with 1 Axes>"
      ]
     },
     "metadata": {},
     "output_type": "display_data"
    }
   ],
   "source": [
    "fig, axs = plt.subplots(1, figsize=(2, 1.5), layout='constrained', sharex=True)\n",
    "\n",
    "plt.rcParams['font.family'] = 'Arial'\n",
    "\n",
    "axs.plot(x_var, prob_QS, marker='v', color='black', linewidth=1, label='LVQS')\n",
    "axs.plot(x_var, prob_NQS, marker='x', color='black', linewidth=1, label='LV')\n",
    "\n",
    "axs.set_xlim([0,21])\n",
    "axs.set_ylim([-0.05,0.3])\n",
    "axs.tick_params(axis='both', which='both', labelsize=8)\n",
    "axs.axhline(0, color='black', linestyle='--', linewidth=0.75)\n",
    "axs.set_xlabel(r'Number of strains', size=8)\n",
    "axs.set_ylabel(r'Survival probability', size=8)\n",
    "axs.legend(fontsize=8,labelspacing=0.2, frameon=False, handlelength=0.75, handletextpad=0.3)\n",
    "\n",
    "plt.savefig(file+'/'+file2+'/fig3c.pdf', format=\"pdf\",bbox_inches='tight', dpi=900)\n",
    "\n",
    "plt.show()"
   ]
  },
  {
   "cell_type": "markdown",
   "id": "1c669033-ebaa-49d5-a513-4a30a859b6ad",
   "metadata": {},
   "source": [
    "## Figure 4A. Antifragility"
   ]
  },
  {
   "cell_type": "markdown",
   "id": "9abb4f70-7ebd-4f9c-9527-542f81c10b2a",
   "metadata": {},
   "source": [
    "### Panel 3a. Average number of survivors convex response to the number of QS strains and the number of interactions modified by QS."
   ]
  },
  {
   "cell_type": "code",
   "execution_count": 17,
   "id": "60d02a6b-d58b-4469-904f-84d662b3cb50",
   "metadata": {},
   "outputs": [],
   "source": [
    "target_reseeds = 200\n",
    "trlnumber=5000\n",
    "\n",
    "name=np.array(['p10', 'p15', 'p20', 'p25', 'p35', 'p40', 'p50', 'p502', 'p60', 'p65', 'p75', 'p80', 'p85', 'p90', 'p100'])\n",
    "names=np.full(len(name), '',dtype=object)\n",
    "num_strains = 15\n",
    "\n",
    "surv_a = np.zeros(len(name))\n",
    "yy_err = np.zeros(len(name))\n",
    "\n",
    "for kk in range(len(name)):\n",
    "    if kk!=2:\n",
    "        names[kk]='beta_1e9_15s_st_1e9_QS'+name[kk]\n",
    "    else:\n",
    "        names[kk]='beta_1e9_15s_st_1e9'\n",
    "\n",
    "    file_2=names[kk]\n",
    "    fractions=np.load(file+'/fractions_'+names[kk]+'.npy')\n",
    "\n",
    "    surv_a[kk]=np.average(survivors(fractions, num_strains, target_reseeds, trlnumber))\n",
    "    yy_err[kk]=np.std(survivors(fractions, num_strains, target_reseeds, trlnumber))\n",
    "\n",
    "\n",
    "name = np.array([1,2,3,4,5,6,7,8,9,10,11,12,13,14,15])\n",
    "names=np.full(len(name), '',dtype=object)\n",
    "num_strains = 15\n",
    "\n",
    "surv2_a = np.zeros(len(name))\n",
    "yy2_err = np.zeros(len(name))\n",
    "\n",
    "for kk in range(len(name)):\n",
    "    names[kk]='beta_1e9_15s_st_1e9_a70_'+str(name[kk])\n",
    "\n",
    "    file_2=names[kk]\n",
    "    fractions=np.load(file+'/fractions_'+names[kk]+'.npy')\n",
    "\n",
    "    surv2_a[kk]=np.average(survivors(fractions, num_strains, target_reseeds, trlnumber))\n",
    "    yy2_err[kk]=np.std(survivors(fractions, num_strains, target_reseeds, trlnumber))\n",
    "    \n",
    "\n",
    "x_var = np.arange(1,15+1)*100/15"
   ]
  },
  {
   "cell_type": "code",
   "execution_count": 18,
   "id": "b31f9f18-cf92-4e10-80b0-c38b91248d0b",
   "metadata": {},
   "outputs": [
    {
     "data": {
      "image/png": "[encoded data removed]",
      "text/plain": [
       "<Figure size 300x150 with 1 Axes>"
      ]
     },
     "metadata": {},
     "output_type": "display_data"
    }
   ],
   "source": [
    "fig, axs = plt.subplots(1, figsize=(3, 1.5), layout='constrained', sharex=True)\n",
    "\n",
    "plt.rcParams['font.family'] = 'Arial'\n",
    "\n",
    "axs.axhline(0, color='black', linestyle='--', linewidth=0.75)\n",
    "\n",
    "p100=axs.errorbar(x_var, surv_a, marker='x', yerr=yy_err, capsize=2.5, markersize=4, linewidth=1, color='tab:blue', label=r'Aff. strs.$=0.3$')\n",
    "p011=axs.errorbar(x_var, surv2_a, marker='x', yerr=yy2_err, capsize=2.5, markersize=4, linewidth=1, color='tab:purple', label=r'Aff. strs.$=0.7$')\n",
    "\n",
    "axs.tick_params(axis='both', which='both', labelsize=8)\n",
    "axs.set_ylim([0.3,1])\n",
    "axs.set_xlim([-5,105])\n",
    "axs.set_ylabel(r'Survivors Average $\\langle S \\rangle$', size=8)\n",
    "axs.set_xlabel(r'Percentage of QS strains $[\\%]$', size=8)\n",
    "#axs.xaxis.set_label_coords(0.35, -0.3)\n",
    "\n",
    "axs.legend(fontsize=8, labelspacing=0.2, frameon=False, handlelength=0.75, handletextpad=0.3)\n",
    "\n",
    "plt.savefig(file+'/'+file2+'/fig3a.pdf', format=\"pdf\",bbox_inches='tight', dpi=900)\n",
    "\n",
    "plt.show()"
   ]
  },
  {
   "cell_type": "markdown",
   "id": "f245e2b5-1f9c-4922-9504-d7f3bbf46151",
   "metadata": {},
   "source": [
    "### Panel 4b. Distributions with more dispersed data produce a higher averages of surviving strains."
   ]
  },
  {
   "cell_type": "code",
   "execution_count": null,
   "id": "48ed6ffa-e0e6-4909-ac73-650f9c575d77",
   "metadata": {},
   "outputs": [],
   "source": [
    "#Load distributions for S and D in the LV and LVQS simulations\n",
    "#\n",
    "file2='antifragility_8st_a-70'\n",
    "file_c=np.load(file+'/survivors_'+file2+'.npy')\n",
    "file_c=file_c[:,target_reseeds]/15\n",
    "\n",
    "file2='antifragility_8mean_a-70-bin'\n",
    "file_t0=np.load(file+'/survivors_'+file2+'.npy')\n",
    "file_t0=file_t0[:,target_reseeds]/15\n",
    "\n",
    "file2='antifragility_8mean_a-70-flat'\n",
    "file_t2=np.load(file+'/survivors_'+file2+'.npy')\n",
    "file_t2=file_t2[:,target_reseeds]/15\n",
    "\n",
    "#Concatenate in the same column \n",
    "ppS=np.concatenate((file_c,file_t0))\n",
    "ppS=np.concatenate((ppS,file_t2))\n",
    "\n",
    "#Prepare a second column to label the otriginal data \n",
    "p1_l=np.full(len(file_c), 'Fixed value')\n",
    "p0_l=np.full(len(file_t0), 'Binomial Dist')\n",
    "p3_l=np.full(len(file_t2), 'Flat Dist')\n",
    "\n",
    "ppS_l=np.concatenate((p1_l,p0_l))\n",
    "ppS_l=np.concatenate((ppS_l,p3_l))\n",
    "\n",
    "#Generate the data frames for each quantity S and D\n",
    "df = pd.DataFrame({'Identifiers' : ppS_l, 'Values' : ppS})\n",
    "\n",
    "#Export\n",
    "df.to_csv(file+'/figs/fig_statistical_vis/figure7b_data.csv', index=False)"
   ]
  },
  {
   "cell_type": "markdown",
   "id": "d682ec79-b60a-435a-a32c-d38b7b06e68b",
   "metadata": {},
   "source": [
    "## Figure S2. Parameters that affect QS Impact."
   ]
  },
  {
   "cell_type": "markdown",
   "id": "68d85f56-0d3c-41a8-a318-6528220964b2",
   "metadata": {},
   "source": [
    "### Panel S2a. Interaction strenght"
   ]
  },
  {
   "cell_type": "code",
   "execution_count": 68,
   "id": "e4bc4916-ca25-4135-bfb7-80afb07aee05",
   "metadata": {},
   "outputs": [
    {
     "data": {
      "text/plain": [
       "(array([0, 1, 1, 1, 1, 1, 1, 1, 2, 2, 2, 2, 3, 3, 3, 3, 3]),\n",
       " array([ 9,  0,  1,  2,  3,  4,  5,  6,  5,  6,  7,  8,  0,  1,  2,  9, 10]))"
      ]
     },
     "execution_count": 68,
     "metadata": {},
     "output_type": "execute_result"
    }
   ],
   "source": [
    "target_reseeds = 200\n",
    "trlnumber=5000\n",
    "\n",
    "name=np.array(['51e10', '751e10', '1e9', '15e09', '31e9', '51e09', '1e08', '2e08', '5e08', '1e7', '15e07'])\n",
    "names=np.full(len(name), '',dtype=object)\n",
    "\n",
    "num_strains = np.full(len(name), 15)\n",
    "\n",
    "for kk in range(len(name)):\n",
    "    names[kk]='beta_'+name[kk]+'_15s_st_1e9'\n",
    "\n",
    "QSIM, p_val, CI = QSImpact(names, num_strains, target_reseeds, trlnumber)\n",
    "\n",
    "variable='beta'\n",
    "table=np.load(file+'/'+variable+'_var_'+str(0)+'.npy')\n",
    "for num_file in range(len(name)-1):\n",
    "    tab=np.load(file+'/'+variable+'_var_'+str(num_file+1)+'.npy')\n",
    "    table=np.hstack((table,tab))\n",
    "x_var=table[0,:]\n",
    "\n",
    "yy = np.transpose(QSIM[0])\n",
    "yy2 = np.transpose(QSIM[1])\n",
    "yy1 = np.transpose(QSIM[2])\n",
    "yy12 = np.transpose(QSIM[3])\n",
    "\n",
    "yy_err = np.abs(np.vstack((yy,yy))-np.transpose(CI[0]))\n",
    "yy2_err = np.abs(np.vstack((yy2,yy2))-np.transpose(CI[1]))\n",
    "yy1_err = np.abs(np.vstack((yy1,yy1))-np.transpose(CI[2]))\n",
    "yy12_err = np.abs(np.vstack((yy12,yy12))-np.transpose(CI[3]))\n",
    "\n",
    "p_val_ind = np.asarray(p_val>0.05).nonzero()\n",
    "p_val_ind"
   ]
  },
  {
   "cell_type": "code",
   "execution_count": 69,
   "id": "54cbc43e-49de-4a6c-a0b0-4f99e8dd8649",
   "metadata": {},
   "outputs": [
    {
     "data": {
      "image/png": "[encoded data removed]",
      "text/plain": [
       "<Figure size 170x150 with 1 Axes>"
      ]
     },
     "metadata": {},
     "output_type": "display_data"
    }
   ],
   "source": [
    "fig, axs = plt.subplots(1, figsize=(1.7, 1.5), layout='constrained', sharex=True)\n",
    "\n",
    "plt.rcParams['font.family'] = 'Arial'\n",
    "\n",
    "axs.axhline(0, color='black', linestyle='--', linewidth=0.75)\n",
    "\n",
    "p100=axs.errorbar(x_var, yy, marker='.', yerr=yy_err, capsize=2.5, markersize=4, linewidth=1, color='tab:blue', label=r'$\\langle S \\rangle$')\n",
    "p011=axs.errorbar(x_var, yy1, marker='.', yerr=yy1_err, capsize=2.5, markersize=4, linewidth=1, color='tab:green', label=r'$\\langle S_{QS} \\rangle$')\n",
    "p111=axs.errorbar(x_var, yy12, marker='.', yerr=yy12_err, capsize=2.5, markersize=4, linewidth=1, color='tab:red', label=r'$\\langle S_{NQS} \\rangle$')\n",
    "\n",
    "axs.tick_params(axis='both', which='both', labelsize=8)\n",
    "axs.set_ylabel(r'QS Impact $[\\%]$', size=8)\n",
    "axs.set_ylim([-20,15])\n",
    "axs.set_xscale('log')\n",
    "\n",
    "axs.legend(fontsize=8, loc=(0, -0.035), labelspacing=0.2, frameon=False, handlelength=0.75, handletextpad=0.3)\n",
    "\n",
    "axs.set_xlabel(r'Interactions strength $[hr^{-1}]$', size=8)\n",
    "\n",
    "plt.savefig(file+'/'+file2+'/figS2a.pdf', format=\"pdf\",bbox_inches='tight', dpi=900)\n",
    "\n",
    "plt.show()"
   ]
  },
  {
   "cell_type": "markdown",
   "id": "f03317ae-45fd-486d-af83-9dcd8f726a64",
   "metadata": {},
   "source": [
    "### Panel S2b. Carrying Capacity"
   ]
  },
  {
   "cell_type": "code",
   "execution_count": 58,
   "id": "de888f1d-7274-40f0-804e-26341ac232a0",
   "metadata": {},
   "outputs": [
    {
     "name": "stderr",
     "output_type": "stream",
     "text": [
      "/opt/anaconda3/lib/python3.12/site-packages/scipy/stats/_axis_nan_policy.py:531: RuntimeWarning: Precision loss occurred in moment calculation due to catastrophic cancellation. This occurs when the data are nearly identical. Results may be unreliable.\n",
      "  res = hypotest_fun_out(*samples, **kwds)\n"
     ]
    },
    {
     "data": {
      "text/plain": [
       "(array([1, 1, 1, 1, 1, 1, 3, 3]), array([0, 1, 2, 3, 4, 5, 1, 2]))"
      ]
     },
     "execution_count": 58,
     "metadata": {},
     "output_type": "execute_result"
    }
   ],
   "source": [
    "target_reseeds = 200\n",
    "trlnumber=5000\n",
    "\n",
    "name=np.array(['1e8', '51e8', '1e9', '51e9', '1e10', '51e10'])\n",
    "names=np.full(len(name), '',dtype=object)\n",
    "\n",
    "num_strains = np.full(len(name), 15)\n",
    "\n",
    "for kk in range(len(name)):\n",
    "    if kk!=2:\n",
    "        names[kk]='beta_1e9_15s_st_'+name[kk]\n",
    "    else:\n",
    "        names[kk]='beta_1e9_15s_st_1e9'\n",
    "\n",
    "QSIM, p_val, CI = QSImpact(names, num_strains, target_reseeds, trlnumber)\n",
    "\n",
    "variable='capacity'\n",
    "table=np.load(file+'/'+variable+'_var_'+str(0)+'.npy')\n",
    "for num_file in range(len(name)-1):\n",
    "    tab=np.load(file+'/'+variable+'_var_'+str(num_file+1)+'.npy')\n",
    "    table=np.hstack((table,tab))\n",
    "x_var=table[0,:]\n",
    "\n",
    "yy = np.transpose(QSIM[0])\n",
    "yy2 = np.transpose(QSIM[1])\n",
    "yy1 = np.transpose(QSIM[2])\n",
    "yy12 = np.transpose(QSIM[3])\n",
    "\n",
    "yy_err = np.abs(np.vstack((yy,yy))-np.transpose(CI[0]))\n",
    "yy2_err = np.abs(np.vstack((yy2,yy2))-np.transpose(CI[1]))\n",
    "yy1_err = np.abs(np.vstack((yy1,yy1))-np.transpose(CI[2]))\n",
    "yy12_err = np.abs(np.vstack((yy12,yy12))-np.transpose(CI[3]))\n",
    "\n",
    "#When K is equal to QS activation threshold there is no QS dynamics and simulations are identical\n",
    "yy[0], yy2[0], yy1[0], yy12[0] = 0, 0, 0, 0 \n",
    "\n",
    "p_val_ind = np.asarray(p_val>0.05).nonzero()\n",
    "p_val_ind"
   ]
  },
  {
   "cell_type": "code",
   "execution_count": 59,
   "id": "08a1afe4-589f-4a12-8fcb-92d8790542ba",
   "metadata": {},
   "outputs": [
    {
     "data": {
      "image/png": "[encoded data removed]",
      "text/plain": [
       "<Figure size 170x150 with 1 Axes>"
      ]
     },
     "metadata": {},
     "output_type": "display_data"
    }
   ],
   "source": [
    "fig, axs = plt.subplots(1, figsize=(1.7, 1.5), layout='constrained', sharex=True)\n",
    "\n",
    "plt.rcParams['font.family'] = 'Arial'\n",
    "\n",
    "axs.axhline(0, color='black', linestyle='--', linewidth=0.75)\n",
    "\n",
    "p100=axs.errorbar(x_var, yy, marker='.', yerr=yy_err, capsize=2.5, markersize=4, linewidth=1, color='tab:blue', label=r'$\\langle S \\rangle$')\n",
    "p011=axs.errorbar(x_var, yy1, marker='.', yerr=yy1_err, capsize=2.5, markersize=4, linewidth=1, color='tab:green', label=r'$\\langle S_{QS} \\rangle$')\n",
    "p111=axs.errorbar(x_var, yy12, marker='.', yerr=yy12_err, capsize=2.5, markersize=4, linewidth=1, color='tab:red', label=r'$\\langle S_{NQS} \\rangle$')\n",
    "\n",
    "axs.tick_params(axis='both', which='both', labelsize=8)\n",
    "axs.set_ylim([-3,15])\n",
    "axs.set_xlim([8*1e7, 7*1e10])\n",
    "axs.set_xscale('log')\n",
    "axs.set_ylabel(r'QS Impact $[\\%]$', size=8)\n",
    "axs.set_xlabel(r'Carrying Capacity', size=8)\n",
    "\n",
    "plt.savefig(file+'/'+file2+'/figS2b.pdf', format=\"pdf\", bbox_inches='tight', dpi=900)\n",
    "\n",
    "plt.show()"
   ]
  },
  {
   "cell_type": "markdown",
   "id": "5715ddb2-71c3-4414-97a0-83d11a0e35ff",
   "metadata": {},
   "source": [
    "### Panel S2c. Number of Strains."
   ]
  },
  {
   "cell_type": "code",
   "execution_count": 60,
   "id": "324eb266-0c29-451e-8457-54cba5db9eef",
   "metadata": {},
   "outputs": [
    {
     "data": {
      "text/plain": [
       "(array([1, 1, 1, 1, 3, 3, 3]), array([0, 1, 2, 3, 0, 1, 2]))"
      ]
     },
     "execution_count": 60,
     "metadata": {},
     "output_type": "execute_result"
    }
   ],
   "source": [
    "target_reseeds = 200\n",
    "trlnumber=5000\n",
    "\n",
    "name=np.array(['5s', '10s', '15s', '20s'])\n",
    "names=np.full(len(name), '',dtype=object)\n",
    "\n",
    "num_strains = np.array([5,10,15,20])\n",
    "\n",
    "for kk in range(len(name)):\n",
    "    if kk!=2:\n",
    "        names[kk]='beta_1e9_'+name[kk]+'_st_1e9'\n",
    "    else:\n",
    "        names[kk]='beta_1e9_15s_st_1e9'\n",
    "\n",
    "QSIM, p_val, CI = QSImpact(names, num_strains, target_reseeds, trlnumber)\n",
    "\n",
    "variable='numst'\n",
    "table=np.load(file+'/'+variable+'_var_'+str(0)+'.npy')\n",
    "for num_file in range(len(name)-1):\n",
    "    tab=np.load(file+'/'+variable+'_var_'+str(num_file+1)+'.npy')\n",
    "    table=np.hstack((table,tab))\n",
    "x_var=table[0,:]\n",
    "\n",
    "yy = np.transpose(QSIM[0])\n",
    "yy2 = np.transpose(QSIM[1])\n",
    "yy1 = np.transpose(QSIM[2])\n",
    "yy12 = np.transpose(QSIM[3])\n",
    "\n",
    "yy_err = np.abs(np.vstack((yy,yy))-np.transpose(CI[0]))\n",
    "yy2_err = np.abs(np.vstack((yy2,yy2))-np.transpose(CI[1]))\n",
    "yy1_err = np.abs(np.vstack((yy1,yy1))-np.transpose(CI[2]))\n",
    "yy12_err = np.abs(np.vstack((yy12,yy12))-np.transpose(CI[3]))\n",
    "\n",
    "p_val_ind = np.asarray(p_val>0.05).nonzero()\n",
    "p_val_ind"
   ]
  },
  {
   "cell_type": "code",
   "execution_count": 61,
   "id": "09c04035-8da3-47ba-8061-a726a98b8701",
   "metadata": {},
   "outputs": [
    {
     "data": {
      "image/png": "[encoded data removed]",
      "text/plain": [
       "<Figure size 170x150 with 1 Axes>"
      ]
     },
     "metadata": {},
     "output_type": "display_data"
    }
   ],
   "source": [
    "fig, axs = plt.subplots(1, figsize=(1.7, 1.5), layout='constrained', sharex=True)\n",
    "\n",
    "plt.rcParams['font.family'] = 'Arial'\n",
    "\n",
    "axs.axhline(0, color='black', linestyle='--', linewidth=0.75)\n",
    "\n",
    "p100=axs.errorbar(x_var, yy, marker='.', yerr=yy_err, capsize=2.5, markersize=4, linewidth=1, color='tab:blue', label=r'$\\langle S \\rangle$')\n",
    "p011=axs.errorbar(x_var, yy1, marker='.', yerr=yy1_err, capsize=2.5, markersize=4, linewidth=1, color='tab:green', label=r'$\\langle S_{QS} \\rangle$')\n",
    "p111=axs.errorbar(x_var, yy12, marker='.', yerr=yy12_err, capsize=2.5, markersize=4, linewidth=1, color='tab:red', label=r'$\\langle S_{NQS} \\rangle$')\n",
    "\n",
    "axs.tick_params(axis='both', which='both', labelsize=8)\n",
    "axs.set_ylim([-3,15])\n",
    "axs.set_xlim([4,21])\n",
    "axs.set_ylabel(r'QS Impact $[\\%]$', size=8)\n",
    "axs.set_xlabel(r'Number of strains', size=8)\n",
    "\n",
    "plt.savefig(file+'/'+file2+'/figS2c.pdf', format=\"pdf\",bbox_inches='tight', dpi=900)\n",
    "\n",
    "plt.show()"
   ]
  },
  {
   "cell_type": "markdown",
   "id": "8b302d43-51ed-4649-9377-469da0454839",
   "metadata": {},
   "source": [
    "### Panel S2d. Growing Rate."
   ]
  },
  {
   "cell_type": "code",
   "execution_count": 62,
   "id": "2b62db4f-1db6-40c8-8bf5-e6d51f843b16",
   "metadata": {},
   "outputs": [
    {
     "data": {
      "text/plain": [
       "(array([1, 1, 1, 3, 3]), array([0, 1, 2, 1, 2]))"
      ]
     },
     "execution_count": 62,
     "metadata": {},
     "output_type": "execute_result"
    }
   ],
   "source": [
    "target_reseeds = 200\n",
    "trlnumber=5000\n",
    "\n",
    "name=np.array(['alph_1', 'alph_15', 'alph_2'])\n",
    "names=np.full(len(name), '',dtype=object)\n",
    "\n",
    "num_strains = np.full(len(name), 15)\n",
    "\n",
    "for kk in range(len(name)):\n",
    "    if kk!=2:\n",
    "        names[kk]='beta_1e9_15s_st_1e9_'+name[kk]\n",
    "    else:\n",
    "        names[kk]='beta_1e9_15s_st_1e9'\n",
    "\n",
    "QSIM, p_val, CI = QSImpact(names, num_strains, target_reseeds, trlnumber)\n",
    "\n",
    "variable='alpha'\n",
    "table=np.load(file+'/'+variable+'_var_'+str(0)+'.npy')\n",
    "for num_file in range(len(name)-1):\n",
    "    tab=np.load(file+'/'+variable+'_var_'+str(num_file+1)+'.npy')\n",
    "    table=np.hstack((table,tab))\n",
    "x_var=table[0,:]\n",
    "\n",
    "yy = np.transpose(QSIM[0])\n",
    "yy2 = np.transpose(QSIM[1])\n",
    "yy1 = np.transpose(QSIM[2])\n",
    "yy12 = np.transpose(QSIM[3])\n",
    "\n",
    "yy_err = np.abs(np.vstack((yy,yy))-np.transpose(CI[0]))\n",
    "yy2_err = np.abs(np.vstack((yy2,yy2))-np.transpose(CI[1]))\n",
    "yy1_err = np.abs(np.vstack((yy1,yy1))-np.transpose(CI[2]))\n",
    "yy12_err = np.abs(np.vstack((yy12,yy12))-np.transpose(CI[3]))\n",
    "\n",
    "p_val_ind = np.asarray(p_val>0.05).nonzero()\n",
    "p_val_ind"
   ]
  },
  {
   "cell_type": "code",
   "execution_count": 63,
   "id": "56667e05-8df8-41f2-b04a-de9a1a3a78a9",
   "metadata": {},
   "outputs": [
    {
     "data": {
      "image/png": "[encoded data removed]",
      "text/plain": [
       "<Figure size 170x150 with 1 Axes>"
      ]
     },
     "metadata": {},
     "output_type": "display_data"
    }
   ],
   "source": [
    "fig, axs = plt.subplots(1, figsize=(1.7, 1.5), layout='constrained', sharex=True)\n",
    "\n",
    "plt.rcParams['font.family'] = 'Arial'\n",
    "\n",
    "axs.axhline(0, color='black', linestyle='--', linewidth=0.75)\n",
    "\n",
    "p100=axs.errorbar(x_var, yy, marker='.', yerr=yy_err, capsize=2.5, markersize=4, linewidth=1, color='tab:blue', label=r'$\\langle S \\rangle$')\n",
    "p011=axs.errorbar(x_var, yy1, marker='.', yerr=yy1_err, capsize=2.5, markersize=4, linewidth=1, color='tab:green', label=r'$\\langle S_{QS} \\rangle$')\n",
    "p111=axs.errorbar(x_var, yy12, marker='.', yerr=yy12_err, capsize=2.5, markersize=4, linewidth=1, color='tab:red', label=r'$\\langle S_{NQS} \\rangle$')\n",
    "\n",
    "axs.tick_params(axis='both', which='both', labelsize=8)\n",
    "axs.set_ylim([-3,15])\n",
    "#axs.set_xlim([4,21])\n",
    "axs.set_ylabel(r'QS Impact $[\\%]$', size=8)\n",
    "axs.set_xlabel(r'Growth Rate $[hr^{-1}]$', size=8)\n",
    "\n",
    "plt.savefig(file+'/'+file2+'/figS2d.pdf', format=\"pdf\",bbox_inches='tight', dpi=900)\n",
    "\n",
    "plt.show()"
   ]
  },
  {
   "cell_type": "markdown",
   "id": "0960285d-c7e5-4c46-9792-9af95dcd71cb",
   "metadata": {},
   "source": [
    "### Panel S2e. QS activation threshold."
   ]
  },
  {
   "cell_type": "code",
   "execution_count": 64,
   "id": "3ebd924c-e66d-41da-b608-095d74d31905",
   "metadata": {},
   "outputs": [
    {
     "data": {
      "text/plain": [
       "(array([0, 0, 1, 1, 1, 1, 1, 1, 1, 1, 2, 2, 2, 3, 3, 3, 3, 3, 3, 3, 3]),\n",
       " array([0, 9, 0, 1, 2, 3, 4, 5, 6, 9, 0, 8, 9, 0, 1, 2, 3, 4, 5, 6, 9]))"
      ]
     },
     "execution_count": 64,
     "metadata": {},
     "output_type": "execute_result"
    }
   ],
   "source": [
    "target_reseeds = 200\n",
    "trlnumber=5000\n",
    "\n",
    "name=np.array([1e5,5*1e5,1e6,5*1e6,1e7,5*1e7,1e8,5*1e8,1e9,5*1e9])\n",
    "names=np.full(len(name), '',dtype=object)\n",
    "\n",
    "num_strains = np.full(len(name), 15)\n",
    "\n",
    "for kk in range(len(name)):\n",
    "    names[kk]='beta_1e9_15s_st_1e9_N_QS_'+str(int(name[kk]))\n",
    "\n",
    "QSIM, p_val, CI = QSImpact(names, num_strains, target_reseeds, trlnumber)\n",
    "\n",
    "variable='N_QS'\n",
    "table=np.load(file+'/'+variable+'_var_'+str(0)+'.npy')\n",
    "for num_file in range(len(name)-1):\n",
    "    tab=np.load(file+'/'+variable+'_var_'+str(num_file+1)+'.npy')\n",
    "    table=np.hstack((table,tab))\n",
    "x_var=table[0,:]\n",
    "\n",
    "yy = np.transpose(QSIM[0])\n",
    "yy2 = np.transpose(QSIM[1])\n",
    "yy1 = np.transpose(QSIM[2])\n",
    "yy12 = np.transpose(QSIM[3])\n",
    "\n",
    "yy_err = np.abs(np.vstack((yy,yy))-np.transpose(CI[0]))\n",
    "yy2_err = np.abs(np.vstack((yy2,yy2))-np.transpose(CI[1]))\n",
    "yy1_err = np.abs(np.vstack((yy1,yy1))-np.transpose(CI[2]))\n",
    "yy12_err = np.abs(np.vstack((yy12,yy12))-np.transpose(CI[3]))\n",
    "\n",
    "p_val_ind = np.asarray(p_val>0.05).nonzero()\n",
    "p_val_ind"
   ]
  },
  {
   "cell_type": "code",
   "execution_count": 66,
   "id": "915b434a-fb4b-4c29-812d-832817b6b9d9",
   "metadata": {},
   "outputs": [
    {
     "data": {
      "image/png": "[encoded data removed]",
      "text/plain": [
       "<Figure size 170x150 with 1 Axes>"
      ]
     },
     "metadata": {},
     "output_type": "display_data"
    }
   ],
   "source": [
    "fig, axs = plt.subplots(1, figsize=(1.7, 1.5), layout='constrained', sharex=True)\n",
    "\n",
    "plt.rcParams['font.family'] = 'Arial'\n",
    "\n",
    "axs.axhline(0, color='black', linestyle='--', linewidth=0.75)\n",
    "\n",
    "p100=axs.errorbar(x_var, yy, marker='.', yerr=yy_err, capsize=2.5, markersize=4, linewidth=1, color='tab:blue', label=r'$\\langle S \\rangle$')\n",
    "p011=axs.errorbar(x_var, yy1, marker='.', yerr=yy1_err, capsize=2.5, markersize=4, linewidth=1, color='tab:green', label=r'$\\langle S_{QS} \\rangle$')\n",
    "p111=axs.errorbar(x_var, yy12, marker='.', yerr=yy12_err, capsize=2.5, markersize=4, linewidth=1, color='tab:red', label=r'$\\langle S_{NQS} \\rangle$')\n",
    "\n",
    "axs.tick_params(axis='both', which='both', labelsize=8)\n",
    "axs.set_ylim([-3,22])\n",
    "axs.set_xlim([5*1e4,1e10])\n",
    "axs.set_xscale('log')\n",
    "axs.set_ylabel(r'QS Impact $[\\%]$', size=8)\n",
    "axs.set_xlabel(r'QS Activation Density', size=8)\n",
    "\n",
    "plt.savefig(file+'/'+file2+'/figS2e.pdf', format=\"pdf\",bbox_inches='tight', dpi=900)\n",
    "\n",
    "plt.show()"
   ]
  },
  {
   "cell_type": "markdown",
   "id": "a3d81a04-4d47-49b2-a268-bbd07a2378f7",
   "metadata": {},
   "source": [
    "## Figure S1. Different definitions of interactions after QS activation."
   ]
  },
  {
   "cell_type": "markdown",
   "id": "35ece276-f2e1-4c12-9b7f-7059e55f5997",
   "metadata": {},
   "source": [
    "### Panel S1a. Only changes in incoming interactions are allowed."
   ]
  },
  {
   "cell_type": "code",
   "execution_count": 29,
   "id": "06ec9c9f-2a36-427d-9a22-f16482d94028",
   "metadata": {},
   "outputs": [
    {
     "data": {
      "text/plain": [
       "(array([0, 0, 0, 0, 1, 1, 1, 1, 1, 1, 1, 1, 1, 2, 2, 2, 3, 3, 3, 3, 3]),\n",
       " array([ 1,  3,  8, 11,  0,  1,  4,  6,  7, 10, 11, 12, 13,  1,  3,  9,  0,\n",
       "         1,  4,  6, 13]))"
      ]
     },
     "execution_count": 29,
     "metadata": {},
     "output_type": "execute_result"
    }
   ],
   "source": [
    "target_reseeds = 200\n",
    "trlnumber=5000\n",
    "\n",
    "name=np.array([1,2,3,4,5,6,7,8,9,10,11,12,13,14,15])\n",
    "names=np.full(len(name), '',dtype=object)\n",
    "\n",
    "num_strains = np.full(len(name), 15)\n",
    "\n",
    "for kk in range(len(name)):\n",
    "    names[kk]='beta_'+str(name[kk])+'_1e9_15s_st_1e9'\n",
    "    if kk==0:\n",
    "        names[kk]='beta_1e9_15s_st_1e9'\n",
    "\n",
    "QSIM, p_val, CI = QSImpact(names, num_strains, target_reseeds, trlnumber)\n",
    "\n",
    "x_var=np.array(['In-Out Neutral', 'Out-Neutral', 'In-Pos Out-Neg', 'G-O Agressive', 'G-IO Agressive', 'G-IO Cooperative',\n",
    "                'In-Neutral', 'G-I Excluded', 'G-I Promoted','G-O Cooperative', 'G-IO Excluded', 'G-IO Promoted',\n",
    "                'In-Neg Out-Pos', 'G-IO Positive', 'G-IO Negative'])\n",
    "\n",
    "yy = np.transpose(QSIM[0])\n",
    "yy2 = np.transpose(QSIM[1])\n",
    "yy1 = np.transpose(QSIM[2])\n",
    "yy12 = np.transpose(QSIM[3])\n",
    "\n",
    "yy_err = np.abs(np.vstack((yy,yy))-np.transpose(CI[0]))\n",
    "yy2_err = np.abs(np.vstack((yy2,yy2))-np.transpose(CI[1]))\n",
    "yy1_err = np.abs(np.vstack((yy1,yy1))-np.transpose(CI[2]))\n",
    "yy12_err = np.abs(np.vstack((yy12,yy12))-np.transpose(CI[3]))\n",
    "\n",
    "p_val_ind = np.asarray(p_val>0.05).nonzero()\n",
    "p_val_ind"
   ]
  },
  {
   "cell_type": "code",
   "execution_count": 30,
   "id": "edb2336e-2cb6-477b-b85d-2002698ed7b7",
   "metadata": {},
   "outputs": [
    {
     "data": {
      "image/png": "[encoded data removed]",
      "text/plain": [
       "<Figure size 170x150 with 1 Axes>"
      ]
     },
     "metadata": {},
     "output_type": "display_data"
    }
   ],
   "source": [
    "fig, axs = plt.subplots(1, figsize=(1.7, 1.5), layout='constrained', sharex=True)\n",
    "\n",
    "plt.rcParams['font.family'] = 'Arial'\n",
    "\n",
    "colors=np.array(['tab:blue', 'tab:orange', 'tab:green', 'tab:red'])\n",
    "colors2=np.array(['tab:cyan', 'bisque', 'yellowgreen', 'lightcoral'])\n",
    "\n",
    "xx=np.array([r'$\\langle S \\rangle$', r'$\\langle D \\rangle$', r'$\\langle S_{QS} \\rangle$', r'$\\langle S_{NQS} \\rangle$'])\n",
    "\n",
    "var1=6\n",
    "\n",
    "x_var_aux=np.array([x_var[var1]])\n",
    "yy_aux=np.array([yy[var1]])\n",
    "yy2_aux=np.array([yy2[var1]])\n",
    "yy1_aux=np.array([yy1[var1]])\n",
    "yy12_aux=np.array([yy12[var1]])\n",
    "\n",
    "yy_err_aux=np.array([yy_err[0][var1]])\n",
    "yy2_err_aux=np.array([yy2_err[0][var1]])\n",
    "yy1_err_aux=np.array([yy1_err[0][var1]])\n",
    "yy12_err_aux=np.array([yy12_err[0][var1]])\n",
    "\n",
    "i=0\n",
    "    \n",
    "GIO = np.array([yy_aux[i], yy2_aux[i], yy1_aux[i], yy12_aux[i]])\n",
    "GIO_err = np.array([yy_err_aux[i], yy2_err_aux[i], yy1_err_aux[i], yy12_err_aux[i]])\n",
    "\n",
    "axs.axhline(0, color='black', linestyle='--', linewidth=0.75)\n",
    "axs.errorbar(xx, GIO, marker='.', yerr=GIO_err, capsize=2.5, ecolor='black', linewidth=1, fmt='none')\n",
    "axs.scatter(xx, GIO, c=colors, s=20)\n",
    "\n",
    "axs.tick_params(axis='both', which='both', labelsize=8)\n",
    "axs.set_ylim([-5,10])\n",
    "axs.set_ylabel(r'QS Impact $[\\%]$', size=8)\n",
    "axs.set_title(x_var_aux[0], size=8)\n",
    "\n",
    "plt.savefig(file+'/'+file2+'/figS3a.pdf', format=\"pdf\",bbox_inches='tight', dpi=900)\n",
    "\n",
    "plt.show()"
   ]
  },
  {
   "cell_type": "markdown",
   "id": "cf8375a8-92a7-4646-ab1f-0dcf7951ca9d",
   "metadata": {},
   "source": [
    "### Panel S2b. Only changes in outgoing interactions are allowed."
   ]
  },
  {
   "cell_type": "code",
   "execution_count": 31,
   "id": "72b0e40d-4a0d-4d62-bc59-a91ecb3a179c",
   "metadata": {},
   "outputs": [
    {
     "data": {
      "image/png": "[encoded data removed]",
      "text/plain": [
       "<Figure size 170x150 with 1 Axes>"
      ]
     },
     "metadata": {},
     "output_type": "display_data"
    }
   ],
   "source": [
    "fig, axs = plt.subplots(1, figsize=(1.7, 1.5), layout='constrained', sharex=True)\n",
    "\n",
    "plt.rcParams['font.family'] = 'Arial'\n",
    "\n",
    "colors=np.array(['tab:blue', 'tab:orange', 'tab:green', 'tab:red'])\n",
    "colors2=np.array(['tab:cyan', 'bisque', 'yellowgreen', 'lightcoral'])\n",
    "\n",
    "xx=np.array([r'$\\langle S \\rangle$', r'$\\langle D \\rangle$', r'$\\langle S_{QS} \\rangle$', r'$\\langle S_{NQS} \\rangle$'])\n",
    "\n",
    "var1=1\n",
    "\n",
    "x_var_aux=np.array([x_var[var1]])\n",
    "yy_aux=np.array([yy[var1]])\n",
    "yy2_aux=np.array([yy2[var1]])\n",
    "yy1_aux=np.array([yy1[var1]])\n",
    "yy12_aux=np.array([yy12[var1]])\n",
    "\n",
    "yy_err_aux=np.array([yy_err[0][var1]])\n",
    "yy2_err_aux=np.array([yy2_err[0][var1]])\n",
    "yy1_err_aux=np.array([yy1_err[0][var1]])\n",
    "yy12_err_aux=np.array([yy12_err[0][var1]])\n",
    "\n",
    "i=0\n",
    "    \n",
    "GIO = np.array([yy_aux[i], yy2_aux[i], yy1_aux[i], yy12_aux[i]])\n",
    "GIO_err = np.array([yy_err_aux[i], yy2_err_aux[i], yy1_err_aux[i], yy12_err_aux[i]])\n",
    "\n",
    "axs.axhline(0, color='black', linestyle='--', linewidth=0.75)\n",
    "axs.errorbar(xx, GIO, marker='.', yerr=GIO_err, capsize=2.5, ecolor='black', linewidth=1, fmt='none')\n",
    "axs.scatter(xx, GIO, c=colors, s=20)\n",
    "\n",
    "axs.tick_params(axis='both', which='both', labelsize=8)\n",
    "axs.set_ylim([-5,10])\n",
    "axs.set_ylabel(r'QS Impact $[\\%]$', size=8)\n",
    "axs.set_title(x_var_aux[0], size=8)\n",
    "\n",
    "plt.savefig(file+'/'+file2+'/figS3b.pdf', format=\"pdf\",bbox_inches='tight', dpi=900)\n",
    "\n",
    "plt.show()"
   ]
  },
  {
   "cell_type": "markdown",
   "id": "b28a0bf3-7fdc-45d1-992d-22287b3f2c26",
   "metadata": {},
   "source": [
    "### Panel S2c. Usual QS model, incoming and outgoing itneractions taken from a gaussian distribution."
   ]
  },
  {
   "cell_type": "code",
   "execution_count": 32,
   "id": "1196ea23-2ff0-49c2-9507-fbff2d15e525",
   "metadata": {},
   "outputs": [
    {
     "data": {
      "image/png": "[encoded data removed]",
      "text/plain": [
       "<Figure size 170x150 with 1 Axes>"
      ]
     },
     "metadata": {},
     "output_type": "display_data"
    }
   ],
   "source": [
    "fig, axs = plt.subplots(1, figsize=(1.7, 1.5), layout='constrained', sharex=True)\n",
    "\n",
    "plt.rcParams['font.family'] = 'Arial'\n",
    "\n",
    "colors=np.array(['tab:blue', 'tab:orange', 'tab:green', 'tab:red'])\n",
    "colors2=np.array(['tab:cyan', 'bisque', 'yellowgreen', 'lightcoral'])\n",
    "\n",
    "xx=np.array([r'$\\langle S \\rangle$', r'$\\langle D \\rangle$', r'$\\langle S_{QS} \\rangle$', r'$\\langle S_{NQS} \\rangle$'])\n",
    "\n",
    "var1=0\n",
    "\n",
    "x_var_aux=np.array([x_var[var1]])\n",
    "yy_aux=np.array([yy[var1]])\n",
    "yy2_aux=np.array([yy2[var1]])\n",
    "yy1_aux=np.array([yy1[var1]])\n",
    "yy12_aux=np.array([yy12[var1]])\n",
    "\n",
    "yy_err_aux=np.array([yy_err[0][var1]])\n",
    "yy2_err_aux=np.array([yy2_err[0][var1]])\n",
    "yy1_err_aux=np.array([yy1_err[0][var1]])\n",
    "yy12_err_aux=np.array([yy12_err[0][var1]])\n",
    "\n",
    "i=0\n",
    "    \n",
    "GIO = np.array([yy_aux[i], yy2_aux[i], yy1_aux[i], yy12_aux[i]])\n",
    "GIO_err = np.array([yy_err_aux[i], yy2_err_aux[i], yy1_err_aux[i], yy12_err_aux[i]])\n",
    "\n",
    "axs.axhline(0, color='black', linestyle='--', linewidth=0.75)\n",
    "axs.errorbar(xx, GIO, marker='.', yerr=GIO_err, capsize=2.5, ecolor='black', linewidth=1, fmt='none')\n",
    "axs.scatter(xx, GIO, c=colors, s=20)\n",
    "\n",
    "axs.tick_params(axis='both', which='both', labelsize=8)\n",
    "axs.set_ylim([-5,15])\n",
    "axs.set_ylabel(r'QS Impact $[\\%]$', size=8)\n",
    "axs.set_title(x_var_aux[0], size=8)\n",
    "\n",
    "plt.savefig(file+'/'+file2+'/figS3c.pdf', format=\"pdf\",bbox_inches='tight', dpi=900)\n",
    "\n",
    "plt.show()"
   ]
  },
  {
   "cell_type": "markdown",
   "id": "9948b5f1-6da5-497f-879d-322fe65fa84b",
   "metadata": {},
   "source": [
    "### Panel S2d. Changes in incoming interactions are always positive and outgoing interactions are always negative."
   ]
  },
  {
   "cell_type": "code",
   "execution_count": 33,
   "id": "8103ea77-cab9-4f0a-8c13-9dfe40b06c99",
   "metadata": {},
   "outputs": [
    {
     "data": {
      "text/plain": [
       "(array([], dtype=int64), array([], dtype=int64))"
      ]
     },
     "execution_count": 33,
     "metadata": {},
     "output_type": "execute_result"
    }
   ],
   "source": [
    "target_reseeds = 200\n",
    "trlnumber=5000\n",
    "\n",
    "name=np.array([3,13])\n",
    "names=np.full(len(name), '',dtype=object)\n",
    "\n",
    "num_strains = np.full(len(name), 15)\n",
    "\n",
    "for kk in range(len(name)):\n",
    "    names[kk]='beta_'+str(name[kk])+'_100_1e9_15s_st_1e9'\n",
    "\n",
    "QSIM, p_val, CI = QSImpact(names, num_strains, target_reseeds, trlnumber)\n",
    "\n",
    "x_var=np.array(['In-Out Neutral', 'Out-Neutral', 'In-Pos Out-Neg', 'G-O Agressive', 'G-IO Agressive', 'G-IO Cooperative',\n",
    "                'In-Neutral', 'G-I Excluded', 'G-I Promoted','G-O Cooperative', 'G-IO Excluded', 'G-IO Promoted',\n",
    "                'In-Neg Out-Pos', 'G-IO Positive', 'G-IO Negative'])\n",
    "\n",
    "yy = np.transpose(QSIM[0])\n",
    "yy2 = np.transpose(QSIM[1])\n",
    "yy1 = np.transpose(QSIM[2])\n",
    "yy12 = np.transpose(QSIM[3])\n",
    "\n",
    "yy_err = np.abs(np.vstack((yy,yy))-np.transpose(CI[0]))\n",
    "yy2_err = np.abs(np.vstack((yy2,yy2))-np.transpose(CI[1]))\n",
    "yy1_err = np.abs(np.vstack((yy1,yy1))-np.transpose(CI[2]))\n",
    "yy12_err = np.abs(np.vstack((yy12,yy12))-np.transpose(CI[3]))\n",
    "\n",
    "p_val_ind = np.asarray(p_val>0.05).nonzero()\n",
    "p_val_ind"
   ]
  },
  {
   "cell_type": "code",
   "execution_count": 34,
   "id": "4fa79b66-8a28-4172-8f76-3bd6b72f5571",
   "metadata": {},
   "outputs": [
    {
     "data": {
      "image/png": "[encoded data removed]",
      "text/plain": [
       "<Figure size 170x150 with 1 Axes>"
      ]
     },
     "metadata": {},
     "output_type": "display_data"
    }
   ],
   "source": [
    "fig, axs = plt.subplots(1, figsize=(1.7, 1.5), layout='constrained', sharex=True)\n",
    "\n",
    "plt.rcParams['font.family'] = 'Arial'\n",
    "\n",
    "colors=np.array(['tab:blue', 'tab:orange', 'tab:green', 'tab:red'])\n",
    "colors2=np.array(['tab:cyan', 'bisque', 'yellowgreen', 'lightcoral'])\n",
    "\n",
    "xx=np.array([r'$\\langle S \\rangle$', r'$\\langle D \\rangle$', r'$\\langle S_{QS} \\rangle$', r'$\\langle S_{NQS} \\rangle$'])\n",
    "\n",
    "var1=0\n",
    "\n",
    "x_var_aux=np.array([x_var[2]])\n",
    "yy_aux=np.array([yy[var1]])\n",
    "yy2_aux=np.array([yy2[var1]])\n",
    "yy1_aux=np.array([yy1[var1]])\n",
    "yy12_aux=np.array([yy12[var1]])\n",
    "\n",
    "yy_err_aux=np.array([yy_err[0][var1]])\n",
    "yy2_err_aux=np.array([yy2_err[0][var1]])\n",
    "yy1_err_aux=np.array([yy1_err[0][var1]])\n",
    "yy12_err_aux=np.array([yy12_err[0][var1]])\n",
    "\n",
    "i=0\n",
    "    \n",
    "GIO = np.array([yy_aux[i], yy2_aux[i], yy1_aux[i], yy12_aux[i]])\n",
    "GIO_err = np.array([yy_err_aux[i], yy2_err_aux[i], yy1_err_aux[i], yy12_err_aux[i]])\n",
    "\n",
    "axs.axhline(0, color='black', linestyle='--', linewidth=0.75)\n",
    "axs.errorbar(xx, GIO, marker='.', yerr=GIO_err, capsize=2.5, ecolor='black', linewidth=1, fmt='none')\n",
    "axs.scatter(xx, GIO, c=colors, s=20)\n",
    "\n",
    "axs.tick_params(axis='both', which='both', labelsize=8)\n",
    "axs.set_ylim([-15,25])\n",
    "axs.set_ylabel(r'QS Impact $[\\%]$', size=8)\n",
    "axs.set_title(x_var_aux[0], size=8)\n",
    "\n",
    "plt.savefig(file+'/'+file2+'/figS3d.pdf', format=\"pdf\",bbox_inches='tight', dpi=900)\n",
    "\n",
    "plt.show()"
   ]
  },
  {
   "cell_type": "markdown",
   "id": "1631574d-4d2d-4a43-aea7-152b09c8e400",
   "metadata": {},
   "source": [
    "### Panel S2e. Changes in incoming interactions are always negative and outgoing interactions are always positive."
   ]
  },
  {
   "cell_type": "code",
   "execution_count": 35,
   "id": "3c326fc1-dbba-4177-a5b4-5482ec5a0251",
   "metadata": {},
   "outputs": [
    {
     "data": {
      "image/png": "[encoded data removed]",
      "text/plain": [
       "<Figure size 170x150 with 1 Axes>"
      ]
     },
     "metadata": {},
     "output_type": "display_data"
    }
   ],
   "source": [
    "fig, axs = plt.subplots(1, figsize=(1.7, 1.5), layout='constrained', sharex=True)\n",
    "\n",
    "plt.rcParams['font.family'] = 'Arial'\n",
    "\n",
    "colors=np.array(['tab:blue', 'tab:orange', 'tab:green', 'tab:red'])\n",
    "colors2=np.array(['tab:cyan', 'bisque', 'yellowgreen', 'lightcoral'])\n",
    "\n",
    "xx=np.array([r'$\\langle S \\rangle$', r'$\\langle D \\rangle$', r'$\\langle S_{QS} \\rangle$', r'$\\langle S_{NQS} \\rangle$'])\n",
    "\n",
    "var1=1\n",
    "\n",
    "x_var_aux=np.array([x_var[12]])\n",
    "yy_aux=np.array([yy[var1]])\n",
    "yy2_aux=np.array([yy2[var1]])\n",
    "yy1_aux=np.array([yy1[var1]])\n",
    "yy12_aux=np.array([yy12[var1]])\n",
    "\n",
    "yy_err_aux=np.array([yy_err[0][var1]])\n",
    "yy2_err_aux=np.array([yy2_err[0][var1]])\n",
    "yy1_err_aux=np.array([yy1_err[0][var1]])\n",
    "yy12_err_aux=np.array([yy12_err[0][var1]])\n",
    "\n",
    "i=0\n",
    "    \n",
    "GIO = np.array([yy_aux[i], yy2_aux[i], yy1_aux[i], yy12_aux[i]])\n",
    "GIO_err = np.array([yy_err_aux[i], yy2_err_aux[i], yy1_err_aux[i], yy12_err_aux[i]])\n",
    "\n",
    "axs.axhline(0, color='black', linestyle='--', linewidth=0.75)\n",
    "axs.errorbar(xx, GIO, marker='.', yerr=GIO_err, capsize=2.5, ecolor='black', linewidth=1, fmt='none')\n",
    "axs.scatter(xx, GIO, c=colors, s=20)\n",
    "\n",
    "axs.tick_params(axis='both', which='both', labelsize=8)\n",
    "axs.set_ylim([-15,25])\n",
    "axs.set_ylabel(r'QS Impact $[\\%]$', size=8)\n",
    "axs.set_title(x_var_aux[0], size=8)\n",
    "\n",
    "plt.savefig(file+'/'+file2+'/figS3e.pdf', format=\"pdf\",bbox_inches='tight', dpi=900)\n",
    "\n",
    "plt.show()"
   ]
  },
  {
   "cell_type": "code",
   "execution_count": null,
   "id": "beffba54-c665-48d3-b8f4-925cd77e4184",
   "metadata": {},
   "outputs": [],
   "source": []
  }
 ],
 "metadata": {
  "kernelspec": {
   "display_name": "Python 3 (ipykernel)",
   "language": "python",
   "name": "python3"
  },
  "language_info": {
   "codemirror_mode": {
    "name": "ipython",
    "version": 3
   },
   "file_extension": ".py",
   "mimetype": "text/x-python",
   "name": "python",
   "nbconvert_exporter": "python",
   "pygments_lexer": "ipython3",
   "version": "3.12.7"
  }
 },
 "nbformat": 4,
 "nbformat_minor": 5
}
